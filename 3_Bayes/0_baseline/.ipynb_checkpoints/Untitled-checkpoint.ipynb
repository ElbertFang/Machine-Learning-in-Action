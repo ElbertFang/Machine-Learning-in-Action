{
 "cells": [
  {
   "cell_type": "code",
   "execution_count": 1,
   "metadata": {},
   "outputs": [
    {
     "name": "stdout",
     "output_type": "stream",
     "text": [
      "['please', 'worthless', 'dog', 'my', 'stop', 'garbage', 'mr', 'buying', 'is', 'dalmation', 'has', 'cute', 'posting', 'steak', 'to', 'stupid', 'so', 'ate', 'licks', 'park', 'food', 'quit', 'take', 'love', 'I', 'help', 'flea', 'how', 'him', 'not', 'problems', 'maybe']\n"
     ]
    }
   ],
   "source": [
    "import bayes\n",
    "doc , labels = bayes.loadDataSet()\n",
    "my_voc = bayes.creatVoc(doc)\n",
    "print(my_voc)"
   ]
  },
  {
   "cell_type": "code",
   "execution_count": 2,
   "metadata": {},
   "outputs": [
    {
     "name": "stdout",
     "output_type": "stream",
     "text": [
      "[1, 0, 1, 1, 0, 0, 0, 0, 0, 0, 1, 0, 0, 0, 0, 0, 0, 0, 0, 0, 0, 0, 0, 0, 0, 1, 1, 0, 0, 0, 1, 0]\n"
     ]
    }
   ],
   "source": [
    "xxx = bayes.docVec(my_voc,doc[0])\n",
    "print(xxx)"
   ]
  },
  {
   "cell_type": "code",
   "execution_count": 3,
   "metadata": {},
   "outputs": [
    {
     "name": "stdout",
     "output_type": "stream",
     "text": [
      "0.5\n",
      "[-2.56494936 -3.25809654 -2.56494936 -1.87180218 -2.56494936 -3.25809654\n",
      " -2.56494936 -3.25809654 -2.56494936 -2.56494936 -2.56494936 -2.56494936\n",
      " -3.25809654 -2.56494936 -2.56494936 -3.25809654 -2.56494936 -2.56494936\n",
      " -2.56494936 -3.25809654 -3.25809654 -3.25809654 -3.25809654 -2.56494936\n",
      " -2.56494936 -2.56494936 -2.56494936 -2.56494936 -2.15948425 -3.25809654\n",
      " -2.56494936 -3.25809654]\n",
      "[-3.04452244 -1.94591015 -1.94591015 -3.04452244 -2.35137526 -2.35137526\n",
      " -3.04452244 -2.35137526 -3.04452244 -3.04452244 -3.04452244 -3.04452244\n",
      " -2.35137526 -3.04452244 -2.35137526 -1.65822808 -3.04452244 -3.04452244\n",
      " -3.04452244 -2.35137526 -2.35137526 -2.35137526 -2.35137526 -3.04452244\n",
      " -3.04452244 -3.04452244 -3.04452244 -3.04452244 -2.35137526 -2.35137526\n",
      " -3.04452244 -2.35137526]\n"
     ]
    }
   ],
   "source": [
    "train_mat = []\n",
    "for i in doc:\n",
    "    train_mat.append(bayes.docVec(my_voc, i))\n",
    "p0,p1,pc = bayes.trainNB(train_mat,labels)\n",
    "print(pc)\n",
    "print(p0)\n",
    "print(p1)"
   ]
  },
  {
   "cell_type": "code",
   "execution_count": 4,
   "metadata": {},
   "outputs": [
    {
     "name": "stdout",
     "output_type": "stream",
     "text": [
      "['I', 'love', 'my', 'dalmation']  classified as :  0\n",
      "None\n"
     ]
    },
    {
     "ename": "NameError",
     "evalue": "name 'bayse' is not defined",
     "output_type": "error",
     "traceback": [
      "\u001b[1;31m---------------------------------------------------------------------------\u001b[0m",
      "\u001b[1;31mNameError\u001b[0m                                 Traceback (most recent call last)",
      "\u001b[1;32m<ipython-input-4-18319051b3e9>\u001b[0m in \u001b[0;36m<module>\u001b[1;34m()\u001b[0m\n\u001b[0;32m      1\u001b[0m \u001b[0mprint\u001b[0m\u001b[1;33m(\u001b[0m\u001b[0mbayes\u001b[0m\u001b[1;33m.\u001b[0m\u001b[0mtest\u001b[0m\u001b[1;33m(\u001b[0m\u001b[1;33m[\u001b[0m\u001b[1;34m'I'\u001b[0m\u001b[1;33m,\u001b[0m\u001b[1;34m'love'\u001b[0m\u001b[1;33m,\u001b[0m\u001b[1;34m'my'\u001b[0m\u001b[1;33m,\u001b[0m\u001b[1;34m'dalmation'\u001b[0m\u001b[1;33m]\u001b[0m\u001b[1;33m)\u001b[0m\u001b[1;33m)\u001b[0m\u001b[1;33m\u001b[0m\u001b[0m\n\u001b[1;32m----> 2\u001b[1;33m \u001b[0mprint\u001b[0m\u001b[1;33m(\u001b[0m\u001b[0mbayse\u001b[0m\u001b[1;33m.\u001b[0m\u001b[0mtest\u001b[0m\u001b[1;33m(\u001b[0m\u001b[1;33m[\u001b[0m\u001b[1;34m'stupid'\u001b[0m\u001b[1;33m,\u001b[0m\u001b[1;34m'garbage'\u001b[0m\u001b[1;33m]\u001b[0m\u001b[1;33m)\u001b[0m\u001b[1;33m)\u001b[0m\u001b[1;33m\u001b[0m\u001b[0m\n\u001b[0m",
      "\u001b[1;31mNameError\u001b[0m: name 'bayse' is not defined"
     ]
    }
   ],
   "source": [
    "print(bayes.test(['I','love','my','dalmation']))\n",
    "print(bayes.test(['stupid','garbage']))"
   ]
  }
 ],
 "metadata": {
  "kernelspec": {
   "display_name": "Python 3",
   "language": "python",
   "name": "python3"
  },
  "language_info": {
   "codemirror_mode": {
    "name": "ipython",
    "version": 3
   },
   "file_extension": ".py",
   "mimetype": "text/x-python",
   "name": "python",
   "nbconvert_exporter": "python",
   "pygments_lexer": "ipython3",
   "version": "3.6.2"
  }
 },
 "nbformat": 4,
 "nbformat_minor": 2
}

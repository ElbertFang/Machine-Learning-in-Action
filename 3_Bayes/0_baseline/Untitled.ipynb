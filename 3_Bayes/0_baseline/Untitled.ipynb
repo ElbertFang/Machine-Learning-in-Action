{
 "cells": [
  {
   "cell_type": "code",
   "execution_count": 1,
   "metadata": {},
   "outputs": [
    {
     "name": "stdout",
     "output_type": "stream",
     "text": [
      "['cute', 'quit', 'not', 'is', 'love', 'him', 'dalmation', 'to', 'licks', 'flea', 'problems', 'worthless', 'my', 'so', 'ate', 'park', 'steak', 'food', 'I', 'please', 'has', 'stop', 'how', 'buying', 'take', 'mr', 'help', 'garbage', 'stupid', 'dog', 'posting', 'maybe']\n"
     ]
    }
   ],
   "source": [
    "import bayes\n",
    "doc , labels = bayes.loadDataSet()\n",
    "my_voc = bayes.creatVoc(doc)\n",
    "print(my_voc)"
   ]
  },
  {
   "cell_type": "code",
   "execution_count": 2,
   "metadata": {},
   "outputs": [
    {
     "name": "stdout",
     "output_type": "stream",
     "text": [
      "[0, 0, 0, 0, 0, 0, 0, 0, 0, 1, 1, 0, 1, 0, 0, 0, 0, 0, 0, 1, 1, 0, 0, 0, 0, 0, 1, 0, 0, 1, 0, 0]\n"
     ]
    }
   ],
   "source": [
    "xxx = bayes.docVec(my_voc,doc[0])\n",
    "print(xxx)"
   ]
  },
  {
   "cell_type": "code",
   "execution_count": 3,
   "metadata": {},
   "outputs": [
    {
     "name": "stdout",
     "output_type": "stream",
     "text": [
      "0.5\n",
      "[-2.56494936 -3.25809654 -3.25809654 -2.56494936 -2.56494936 -2.15948425\n",
      " -2.56494936 -2.56494936 -2.56494936 -2.56494936 -2.56494936 -3.25809654\n",
      " -1.87180218 -2.56494936 -2.56494936 -3.25809654 -2.56494936 -3.25809654\n",
      " -2.56494936 -2.56494936 -2.56494936 -2.56494936 -2.56494936 -3.25809654\n",
      " -3.25809654 -2.56494936 -2.56494936 -3.25809654 -3.25809654 -2.56494936\n",
      " -3.25809654 -3.25809654]\n",
      "[-3.04452244 -2.35137526 -2.35137526 -3.04452244 -3.04452244 -2.35137526\n",
      " -3.04452244 -2.35137526 -3.04452244 -3.04452244 -3.04452244 -1.94591015\n",
      " -3.04452244 -3.04452244 -3.04452244 -2.35137526 -3.04452244 -2.35137526\n",
      " -3.04452244 -3.04452244 -3.04452244 -2.35137526 -3.04452244 -2.35137526\n",
      " -2.35137526 -3.04452244 -3.04452244 -2.35137526 -1.65822808 -1.94591015\n",
      " -2.35137526 -2.35137526]\n"
     ]
    }
   ],
   "source": [
    "train_mat = []\n",
    "for i in doc:\n",
    "    train_mat.append(bayes.docVec(my_voc, i))\n",
    "p0,p1,pc = bayes.trainNB(train_mat,labels)\n",
    "print(pc)\n",
    "print(p0)\n",
    "print(p1)"
   ]
  },
  {
   "cell_type": "code",
   "execution_count": 4,
   "metadata": {},
   "outputs": [
    {
     "name": "stdout",
     "output_type": "stream",
     "text": [
      "['I', 'love', 'my', 'dalmation']  classified as :  0\n",
      "0\n",
      "['stupid', 'garbage']  classified as :  1\n",
      "0\n"
     ]
    }
   ],
   "source": [
    "print(bayes.test(['I','love','my','dalmation']))\n",
    "print(bayes.test(['stupid','garbage']))"
   ]
  },
  {
   "cell_type": "code",
   "execution_count": null,
   "metadata": {},
   "outputs": [],
   "source": []
  }
 ],
 "metadata": {
  "kernelspec": {
   "display_name": "Python 3",
   "language": "python",
   "name": "python3"
  },
  "language_info": {
   "codemirror_mode": {
    "name": "ipython",
    "version": 3
   },
   "file_extension": ".py",
   "mimetype": "text/x-python",
   "name": "python",
   "nbconvert_exporter": "python",
   "pygments_lexer": "ipython3",
   "version": "3.6.2"
  }
 },
 "nbformat": 4,
 "nbformat_minor": 2
}

{
 "cells": [
  {
   "cell_type": "code",
   "execution_count": 1,
   "metadata": {},
   "outputs": [
    {
     "name": "stdout",
     "output_type": "stream",
     "text": [
      "The result of 1_86.txt is wrong.\n",
      "The classifier return : 7, and the real answer is 1.\n",
      "The result of 3_11.txt is wrong.\n",
      "The classifier return : 9, and the real answer is 3.\n",
      "The result of 5_42.txt is wrong.\n",
      "The classifier return : 3, and the real answer is 5.\n",
      "The result of 5_43.txt is wrong.\n",
      "The classifier return : 6, and the real answer is 5.\n",
      "The result of 8_11.txt is wrong.\n",
      "The classifier return : 6, and the real answer is 8.\n",
      "The result of 8_23.txt is wrong.\n",
      "The classifier return : 3, and the real answer is 8.\n",
      "The result of 8_36.txt is wrong.\n",
      "The classifier return : 1, and the real answer is 8.\n",
      "The result of 8_45.txt is wrong.\n",
      "The classifier return : 1, and the real answer is 8.\n",
      "The result of 9_14.txt is wrong.\n",
      "The classifier return : 1, and the real answer is 9.\n",
      "The result of 9_60.txt is wrong.\n",
      "The classifier return : 7, and the real answer is 9.\n",
      "\n",
      "The total number of error is 10.\n",
      "\n",
      "The total error rate is 0.005171.\n"
     ]
    }
   ],
   "source": [
    "import numpy as np\n",
    "import knn\n",
    "\n",
    "train_dir = \"trainingDigits\" \n",
    "test_dir = \"testDigits\"\n",
    "knn.test(train_dir, test_dir)"
   ]
  },
  {
   "cell_type": "code",
   "execution_count": null,
   "metadata": {},
   "outputs": [],
   "source": []
  }
 ],
 "metadata": {
  "kernelspec": {
   "display_name": "Python 3",
   "language": "python",
   "name": "python3"
  },
  "language_info": {
   "codemirror_mode": {
    "name": "ipython",
    "version": 3
   },
   "file_extension": ".py",
   "mimetype": "text/x-python",
   "name": "python",
   "nbconvert_exporter": "python",
   "pygments_lexer": "ipython3",
   "version": "3.6.2"
  }
 },
 "nbformat": 4,
 "nbformat_minor": 2
}
